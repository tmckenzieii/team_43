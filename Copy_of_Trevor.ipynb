{
  "cells": [
    {
      "cell_type": "markdown",
      "metadata": {
        "id": "view-in-github",
        "colab_type": "text"
      },
      "source": [
        "<a href=\"https://colab.research.google.com/github/tmckenzieii/team_43/blob/main/Copy_of_Trevor.ipynb\" target=\"_parent\"><img src=\"https://colab.research.google.com/assets/colab-badge.svg\" alt=\"Open In Colab\"/></a>"
      ]
    },
    {
      "cell_type": "markdown",
      "source": [
        "**Packages**"
      ],
      "metadata": {
        "id": "b3YMo-toISwj"
      },
      "id": "b3YMo-toISwj"
    },
    {
      "cell_type": "code",
      "execution_count": 192,
      "id": "64aac46e",
      "metadata": {
        "id": "64aac46e",
        "colab": {
          "base_uri": "https://localhost:8080/",
          "height": 0
        },
        "outputId": "1d8851ef-ce16-4b71-9a9c-05193e1cae78"
      },
      "outputs": [
        {
          "output_type": "stream",
          "name": "stderr",
          "text": [
            "/usr/local/lib/python3.7/dist-packages/statsmodels/tools/_testing.py:19: FutureWarning: pandas.util.testing is deprecated. Use the functions in the public API at pandas.testing instead.\n",
            "  import pandas.util.testing as tm\n"
          ]
        }
      ],
      "source": [
        "import pandas as pd\n",
        "import numpy as np\n",
        "import matplotlib.pyplot as plt\n",
        "import seaborn as sns \n",
        "#from sklearn.linear_model import LinearRegression as lr\n",
        "from sklearn import linear_model # to make model\n",
        "import statsmodels.api as sm # to view model"
      ]
    },
    {
      "cell_type": "markdown",
      "source": [
        "**Data sets**"
      ],
      "metadata": {
        "id": "epqpHMWHHw0-"
      },
      "id": "epqpHMWHHw0-"
    },
    {
      "cell_type": "code",
      "source": [
        "# Loading census data set\n",
        "food_data = pd.read_csv('https://raw.githubusercontent.com/tmckenzieii/team_43/main/data/food_access.csv')\n",
        "#df = df.dropna()"
      ],
      "metadata": {
        "id": "wGhtBSsqW3FV"
      },
      "id": "wGhtBSsqW3FV",
      "execution_count": 18,
      "outputs": []
    },
    {
      "cell_type": "code",
      "source": [
        "# Loading stores data set\n",
        "store_data = pd.read_csv('https://raw.githubusercontent.com/tmckenzieii/team_43/main/data/grocery_stores_all.csv')"
      ],
      "metadata": {
        "id": "zK5ulPG1RKzr"
      },
      "id": "zK5ulPG1RKzr",
      "execution_count": 37,
      "outputs": []
    },
    {
      "cell_type": "markdown",
      "source": [
        "**Cleaning datasets and prepping for merge**"
      ],
      "metadata": {
        "id": "JkIoPBEEH2k9"
      },
      "id": "JkIoPBEEH2k9"
    },
    {
      "cell_type": "markdown",
      "source": [
        "Prepping 'food' census data set"
      ],
      "metadata": {
        "id": "QEcpX6wvTe0J"
      },
      "id": "QEcpX6wvTe0J"
    },
    {
      "cell_type": "code",
      "source": [
        "# Create new variable for clean data set and remove NaN values\n",
        "food_data = food_data.dropna()\n",
        "\n",
        "# Convert zip code column to string and remove '.0' from ends\n",
        "food_data['Zip'] = food_data['Zipcode'].astype(str).str.replace(r'.0$', '')\n",
        "\n",
        "# Create new table for merge with store data from \n",
        "food_clean = food_data[['Zip', 'PovertyRate', 'OHU2010', 'MedianFamilyIncome', 'TractWhite', 'TractBlack', 'TractAsian', 'TractNHOPI',\n",
        "       'TractAIAN','TractHispanic', 'TractHUNV', 'lapophalf', 'lapop1']]\n",
        "\n",
        "# Replacing 0s with NaN values to mitigate skewing\n",
        "food_clean = food_clean.replace({0:np.nan})\n",
        "\n",
        "# Grouping by zip code with median values\n",
        "food_merge = food_clean.groupby('Zip').median()"
      ],
      "metadata": {
        "id": "PLPijNA6H5Yg"
      },
      "id": "PLPijNA6H5Yg",
      "execution_count": 129,
      "outputs": []
    },
    {
      "cell_type": "markdown",
      "source": [
        "Prepping 'stores' data set"
      ],
      "metadata": {
        "id": "2mEd5SwnTsSj"
      },
      "id": "2mEd5SwnTsSj"
    },
    {
      "cell_type": "code",
      "source": [
        "# Removing commas from zip code column \n",
        "store_data['Zip'] = store_data['ZIP CODE'].str.replace(',','')\n",
        "\n",
        "# Create clean data set by grouping counts of stores on zip code\n",
        "store_merge = store_data.groupby('Zip').size().reset_index().rename(columns={0:'Store_Count'})"
      ],
      "metadata": {
        "id": "ErsUt4vPRYHK"
      },
      "id": "ErsUt4vPRYHK",
      "execution_count": 130,
      "outputs": []
    },
    {
      "cell_type": "markdown",
      "source": [
        "**Dataframe merging & analysis**"
      ],
      "metadata": {
        "id": "XkCOrlv5U9w8"
      },
      "id": "XkCOrlv5U9w8"
    },
    {
      "cell_type": "code",
      "source": [
        "# Final data set for testing\n",
        "df = food_merge.merge(store_merge, left_on='Zip', right_on='Zip')"
      ],
      "metadata": {
        "id": "ROHooXe-VKSM"
      },
      "id": "ROHooXe-VKSM",
      "execution_count": null,
      "outputs": []
    },
    {
      "cell_type": "markdown",
      "source": [
        "Visualizations of column data by zip code"
      ],
      "metadata": {
        "id": "xDsJUseAhUj9"
      },
      "id": "xDsJUseAhUj9"
    },
    {
      "cell_type": "code",
      "source": [
        "# Bar chart for 'poverty rate' by zip code\n",
        "zip_pov = df.plot.bar(x='Zip', y='PovertyRate', figsize=(7,7), title='Poverty Rate by Zip Code')\n",
        "zip_pov.set_xlabel(\"Zip Codes\")\n",
        "zip_pov.set_ylabel(\"Median Poverty Rate\")"
      ],
      "metadata": {
        "id": "xyoQIOT5hXGV"
      },
      "id": "xyoQIOT5hXGV",
      "execution_count": null,
      "outputs": []
    },
    {
      "cell_type": "code",
      "source": [
        "# Bar chart for 'occupied housing unit count in 2010' by zip code\n",
        "zip_ohu = df.plot.bar(x='Zip', y='OHU2010', figsize=(7,7), title='Occupied Housing # by Zip Code')\n",
        "zip_ohu.set_xlabel(\"Zip Codes\")\n",
        "zip_ohu.set_ylabel(\"Median Occupied Housing #\")"
      ],
      "metadata": {
        "id": "9B8ASR5Oiyii"
      },
      "id": "9B8ASR5Oiyii",
      "execution_count": null,
      "outputs": []
    },
    {
      "cell_type": "code",
      "source": [
        "# Bar chart for 'median family income' by zip code\n",
        "zip_inc = df.plot.bar(x='Zip', y='MedianFamilyIncome', figsize=(7,7), title='Median Family Income by Zip Code')\n",
        "zip_inc.set_xlabel(\"Zip Codes\")\n",
        "zip_inc.set_ylabel(\"Median Family Income\")"
      ],
      "metadata": {
        "id": "KxKxynFCjMrm"
      },
      "id": "KxKxynFCjMrm",
      "execution_count": null,
      "outputs": []
    },
    {
      "cell_type": "code",
      "source": [
        "# Bar chart for 'white population in tract' by zip code\n",
        "zip_wht = df.plot.bar(x='Zip', y='TractWhite', figsize=(7,7), title='White Tract Demographics by Zip Code')\n",
        "zip_wht.set_xlabel(\"Zip Codes\")\n",
        "zip_wht.set_ylabel(\"White Tract Population\")"
      ],
      "metadata": {
        "id": "2pRGLk-QjYU9"
      },
      "id": "2pRGLk-QjYU9",
      "execution_count": null,
      "outputs": []
    },
    {
      "cell_type": "code",
      "source": [
        "# Bar chart for 'black population in tract' by zip code\n",
        "zip_blk = df.plot.bar(x='Zip', y='TractBlack', figsize=(7,7), title='Black Tract Demographics by Zip Code')\n",
        "zip_blk.set_xlabel(\"Zip Codes\")\n",
        "zip_blk.set_ylabel(\"Black Tract Population\")"
      ],
      "metadata": {
        "id": "GMy3gabxjyky"
      },
      "id": "GMy3gabxjyky",
      "execution_count": null,
      "outputs": []
    },
    {
      "cell_type": "code",
      "source": [
        "# Bar chart for 'asian population in tract' by zip code\n",
        "zip_asn = df.plot.bar(x='Zip', y='TractAsian', figsize=(7,7), title='Asian Tract Demographics by Zip Code')\n",
        "zip_asn.set_xlabel(\"Zip Codes\")\n",
        "zip_asn.set_ylabel(\"Asian Tract Population\")"
      ],
      "metadata": {
        "id": "q02kNEqqj_ib"
      },
      "id": "q02kNEqqj_ib",
      "execution_count": null,
      "outputs": []
    },
    {
      "cell_type": "code",
      "source": [
        "# Bar chart for 'pacific islander population in tract' by zip code\n",
        "zip_pac = df.plot.bar(x='Zip', y='TractNHOPI', figsize=(7,7), title='Pacific Islander Tract Demographics by Zip Code')\n",
        "zip_pac.set_xlabel(\"Zip Codes\")\n",
        "zip_pac.set_ylabel(\"Pacific Islander Tract Population\")"
      ],
      "metadata": {
        "id": "ddhCJS73kLLK"
      },
      "id": "ddhCJS73kLLK",
      "execution_count": null,
      "outputs": []
    },
    {
      "cell_type": "code",
      "source": [
        "# Bar chart for 'indigenous american population in tract' by zip code\n",
        "zip_ind = df.plot.bar(x='Zip', y='TractAIAN', figsize=(7,7), title='Indigenous American Tract Demographics by Zip Code')\n",
        "zip_ind.set_xlabel(\"Zip Codes\")\n",
        "zip_ind.set_ylabel(\"Indigenous American Tract Population\")"
      ],
      "metadata": {
        "id": "8A29wHUzkmmV"
      },
      "id": "8A29wHUzkmmV",
      "execution_count": null,
      "outputs": []
    },
    {
      "cell_type": "code",
      "source": [
        "# Bar chart for 'latino population in tract' by zip code\n",
        "zip_lat = df.plot.bar(x='Zip', y='TractHispanic', figsize=(7,7), title='Latino Tract Demographics by Zip Code')\n",
        "zip_lat.set_xlabel(\"Zip Codes\")\n",
        "zip_lat.set_ylabel(\"Latino Tract Population\")"
      ],
      "metadata": {
        "id": "xSpsSafDlRYX"
      },
      "id": "xSpsSafDlRYX",
      "execution_count": null,
      "outputs": []
    },
    {
      "cell_type": "code",
      "source": [
        "# Bar chart for 'housing units with no vehicle in tract' by zip code\n",
        "zip_hun = df.plot.bar(x='Zip', y='TractHUNV', figsize=(7,7), title='Housing Units w/ No Vehicle by Zip Code')\n",
        "zip_hun.set_xlabel(\"Zip Codes\")\n",
        "zip_hun.set_ylabel(\"Housing Units\")"
      ],
      "metadata": {
        "id": "wt0P8u-kluN3"
      },
      "id": "wt0P8u-kluN3",
      "execution_count": null,
      "outputs": []
    },
    {
      "cell_type": "code",
      "source": [
        "# Bar chart for 'population at > 1/2 mile distance from food in tract' by zip code\n",
        "zip_hlf = df.plot.bar(x='Zip', y='lapophalf', figsize=(7,7), title='Pop at > 1/2 Mile Distance from Food by Zip Code')\n",
        "zip_hlf.set_xlabel(\"Zip Codes\")\n",
        "zip_hlf.set_ylabel(\"Population at > 1/2 Mile Distance from Food\")"
      ],
      "metadata": {
        "id": "TeIGv7PgmDai"
      },
      "id": "TeIGv7PgmDai",
      "execution_count": null,
      "outputs": []
    },
    {
      "cell_type": "code",
      "source": [
        "# Bar chart for 'population at > 1 mile distance from food in tract' by zip code\n",
        "zip_1ml = df.plot.bar(x='Zip', y='lapophalf', figsize=(7,7), title='Pop at > 1 Mile Distance from Food by Zip Code')\n",
        "zip_1ml.set_xlabel(\"Zip Codes\")\n",
        "zip_1ml.set_ylabel(\"Population at > 1 Mile Distance from Food\")"
      ],
      "metadata": {
        "id": "doU7jQ8Umb-f"
      },
      "id": "doU7jQ8Umb-f",
      "execution_count": null,
      "outputs": []
    },
    {
      "cell_type": "code",
      "source": [
        "# Bar chart for 'store count' by zip code\n",
        "zip_gro = df.plot.bar(x='Zip', y='Store_Count', figsize=(7,7), title='Grocery Store/Super Market # by Zip Code')\n",
        "zip_gro.set_xlabel(\"Zip Codes\")\n",
        "zip_gro.set_ylabel(\"Grocery Store/Super Market #\")"
      ],
      "metadata": {
        "id": "h3sKYr2kmuzX"
      },
      "id": "h3sKYr2kmuzX",
      "execution_count": null,
      "outputs": []
    },
    {
      "cell_type": "markdown",
      "source": [
        "Correlation matrix"
      ],
      "metadata": {
        "id": "UcWh8UQMYzUx"
      },
      "id": "UcWh8UQMYzUx"
    },
    {
      "cell_type": "code",
      "source": [
        "# Variable for correlation matrix\n",
        "corr_mat = df.corr()\n",
        "\n",
        "# Setting figure size for readability\n",
        "sns.set(rc = {'figure.figsize':(11,11)})\n",
        "\n",
        "# Heat map of correlation matrix\n",
        "sns.heatmap(corr_mat, annot=True) # nothing is alarmingly high so no preemptive removals"
      ],
      "metadata": {
        "id": "h_v_oLI1Ja6N"
      },
      "id": "h_v_oLI1Ja6N",
      "execution_count": null,
      "outputs": []
    },
    {
      "cell_type": "markdown",
      "source": [
        "Column data distributions"
      ],
      "metadata": {
        "id": "9SUlrSS_Y2iG"
      },
      "id": "9SUlrSS_Y2iG"
    },
    {
      "cell_type": "code",
      "source": [
        "# Histogram of poverty rate\n",
        "pr_hist = df['PovertyRate'].plot.hist(bins=15, alpha=.75, figsize=(7,7))\n",
        "pr_hist.set_xlabel('Poverty rate')\n",
        "pr_hist.set_ylabel('Frequency')"
      ],
      "metadata": {
        "id": "yyvf_8dJZREn"
      },
      "id": "yyvf_8dJZREn",
      "execution_count": null,
      "outputs": []
    },
    {
      "cell_type": "code",
      "source": [
        "# Histogram of # of occupied housing units in 2010 census\n",
        "pr_hist = df['OHU2010'].plot.hist(bins=15, alpha=.75, figsize=(7,7))\n",
        "pr_hist.set_xlabel('# of Occupied Housing Units 2010')\n",
        "pr_hist.set_ylabel('Frequency')"
      ],
      "metadata": {
        "id": "o0B0YCBSg7Gj"
      },
      "id": "o0B0YCBSg7Gj",
      "execution_count": null,
      "outputs": []
    },
    {
      "cell_type": "code",
      "source": [
        "# Histogram of median family income\n",
        "pr_hist = df['MedianFamilyIncome'].plot.hist(bins=10, alpha=.75, figsize=(7,7))\n",
        "pr_hist.set_xlabel('Median Family Income')\n",
        "pr_hist.set_ylabel('Frequency')"
      ],
      "metadata": {
        "id": "YI8JhxLph7GY"
      },
      "id": "YI8JhxLph7GY",
      "execution_count": null,
      "outputs": []
    },
    {
      "cell_type": "code",
      "source": [
        "# Histogram of # of occupied housing units in 2010 census\n",
        "pr_hist = df['OHU2010'].plot.hist(bins=15, alpha=.75, figsize=(7,7))\n",
        "pr_hist.set_xlabel('# of Occupied Housing Units 2010')\n",
        "pr_hist.set_ylabel('Frequency')"
      ],
      "metadata": {
        "id": "_Jn63Dw9iO8j"
      },
      "id": "_Jn63Dw9iO8j",
      "execution_count": null,
      "outputs": []
    },
    {
      "cell_type": "code",
      "source": [
        "# Histogram of 'white' demographic count\n",
        "pr_hist = df['TractWhite'].plot.hist(bins=15, alpha=.75, figsize=(7,7))\n",
        "pr_hist.set_xlabel('White demographic in Cook County')\n",
        "pr_hist.set_ylabel('Frequency')"
      ],
      "metadata": {
        "id": "EfXrpXVOi-JN"
      },
      "id": "EfXrpXVOi-JN",
      "execution_count": null,
      "outputs": []
    },
    {
      "cell_type": "code",
      "source": [
        "# Histogram of 'black' demographic count\n",
        "pr_hist = df['TractBlack'].plot.hist(bins=15, alpha=.75, figsize=(7,7))\n",
        "pr_hist.set_xlabel('Black demographic in Cook County')\n",
        "pr_hist.set_ylabel('Frequency')"
      ],
      "metadata": {
        "id": "L8HNMkX6jalR"
      },
      "id": "L8HNMkX6jalR",
      "execution_count": null,
      "outputs": []
    },
    {
      "cell_type": "code",
      "source": [
        "# Histogram of 'Asian' demographic count\n",
        "pr_hist = df['TractAsian'].plot.hist(bins=15, alpha=.75, figsize=(7,7))\n",
        "pr_hist.set_xlabel('Asian demographic in Cook County')\n",
        "pr_hist.set_ylabel('Frequency')"
      ],
      "metadata": {
        "id": "qryQQGNokYXb"
      },
      "id": "qryQQGNokYXb",
      "execution_count": null,
      "outputs": []
    },
    {
      "cell_type": "code",
      "source": [
        "# Histogram of 'native Hawaiian and other Pacific islander' demographic count\n",
        "pr_hist = df['TractNHOPI'].plot.hist(bins=15, alpha=.75, figsize=(7,7))\n",
        "pr_hist.set_xlabel('Pacific islander demographic in Cook County')\n",
        "pr_hist.set_ylabel('Frequency')"
      ],
      "metadata": {
        "id": "W0ZmtWdxkl1E"
      },
      "id": "W0ZmtWdxkl1E",
      "execution_count": null,
      "outputs": []
    },
    {
      "cell_type": "code",
      "source": [
        "# Histogram of 'indigenous American' demographic count\n",
        "pr_hist = df['TractAIAN'].plot.hist(bins=15, alpha=.75, figsize=(7,7))\n",
        "pr_hist.set_xlabel('Indigenous American demographic in Cook County')\n",
        "pr_hist.set_ylabel('Frequency')"
      ],
      "metadata": {
        "id": "N4SoBmZHlJr0"
      },
      "id": "N4SoBmZHlJr0",
      "execution_count": null,
      "outputs": []
    },
    {
      "cell_type": "code",
      "source": [
        "# Histogram of 'Latino' demographic count\n",
        "pr_hist = df['TractHispanic'].plot.hist(bins=15, alpha=.75, figsize=(7,7))\n",
        "pr_hist.set_xlabel('Latino demographic in Cook County')\n",
        "pr_hist.set_ylabel('Frequency')"
      ],
      "metadata": {
        "id": "ks-u1cA2lcpA"
      },
      "id": "ks-u1cA2lcpA",
      "execution_count": null,
      "outputs": []
    },
    {
      "cell_type": "code",
      "source": [
        "# Histogram of 'tract housing units withhout a vehicle' \n",
        "pr_hist = df['TractHUNV'].plot.hist(bins=15, alpha=.75, figsize=(7,7))\n",
        "pr_hist.set_xlabel('Housing units w/ no vehicle in Cook County')\n",
        "pr_hist.set_ylabel('Frequency')"
      ],
      "metadata": {
        "id": "0Wgv6dJHltKM"
      },
      "id": "0Wgv6dJHltKM",
      "execution_count": null,
      "outputs": []
    },
    {
      "cell_type": "code",
      "source": [
        "# Histogram of 'low access population at > 1/2 mile' \n",
        "pr_hist = df['lapophalf'].plot.hist(bins=15, alpha=.75, figsize=(7,7))\n",
        "pr_hist.set_xlabel('Low access population at > 1/2 mile dist. in Cook County')\n",
        "pr_hist.set_ylabel('Frequency')"
      ],
      "metadata": {
        "id": "8vyyDQNol_WI"
      },
      "id": "8vyyDQNol_WI",
      "execution_count": null,
      "outputs": []
    },
    {
      "cell_type": "code",
      "source": [
        "# Histogram of 'low access population at > 1 mile distance'  \n",
        "pr_hist = df['lapop1'].plot.hist(bins=15, alpha=.75, figsize=(7,7))\n",
        "pr_hist.set_xlabel('Low access population at > 1 mile dist. in Cook County')\n",
        "pr_hist.set_ylabel('Frequency')"
      ],
      "metadata": {
        "id": "NCOTw8Dvmeqz"
      },
      "id": "NCOTw8Dvmeqz",
      "execution_count": null,
      "outputs": []
    },
    {
      "cell_type": "markdown",
      "source": [
        "**Multiple linear regression**"
      ],
      "metadata": {
        "id": "T25mRp99GqoO"
      },
      "id": "T25mRp99GqoO"
    },
    {
      "cell_type": "code",
      "source": [
        "# Changing NaNs back to 0s to mitigate regression-based errors\n",
        "df_reg = df.replace({np.nan:0})"
      ],
      "metadata": {
        "id": "l1oy6fdgLgpS"
      },
      "id": "l1oy6fdgLgpS",
      "execution_count": 173,
      "outputs": []
    },
    {
      "cell_type": "markdown",
      "source": [
        "Setting variables"
      ],
      "metadata": {
        "id": "deRqEcSxHiDL"
      },
      "id": "deRqEcSxHiDL"
    },
    {
      "cell_type": "code",
      "source": [
        "# Independent variables for 'stores' regression\n",
        "x_stores = df_reg[['PovertyRate', 'OHU2010', 'MedianFamilyIncome', 'TractWhite', 'TractBlack', 'TractAsian', 'TractNHOPI',\n",
        "       'TractAIAN','TractHispanic', 'TractHUNV', 'lapophalf', 'lapop1']]\n",
        "\n",
        "# Dependent variable for 'stores' regression\n",
        "y_stores = df_reg['Store_Count']"
      ],
      "metadata": {
        "id": "snuLAQi7GvS5"
      },
      "id": "snuLAQi7GvS5",
      "execution_count": 201,
      "outputs": []
    },
    {
      "cell_type": "markdown",
      "source": [
        "Modeling, summary stats and finding best fit"
      ],
      "metadata": {
        "id": "1m5pmBkSVIce"
      },
      "id": "1m5pmBkSVIce"
    },
    {
      "cell_type": "code",
      "source": [
        "# Initial model iteration\n",
        "model = sm.OLS(y_stores, x_stores).fit()\n",
        "print(model.summary()) # Everything but 'PovertyRate' has a p-value > .05"
      ],
      "metadata": {
        "id": "je68j10cMth_"
      },
      "id": "je68j10cMth_",
      "execution_count": null,
      "outputs": []
    },
    {
      "cell_type": "code",
      "source": [
        "# Removing 'TractHUNV' - highest to p-value\n",
        "x_stores2 = df_reg[['PovertyRate', 'OHU2010', 'MedianFamilyIncome', 'TractWhite', 'TractBlack', 'TractAsian', 'TractNHOPI',\n",
        "       'TractAIAN','TractHispanic', 'lapophalf', 'lapop1']]\n",
        "\n",
        "# Model iteration\n",
        "model2 = sm.OLS(y_stores, x_stores2).fit()\n",
        "print(model2.summary()) # Multiple p-values changed - 'lapophalf' has highest p-value"
      ],
      "metadata": {
        "id": "csh5irV9WhAY"
      },
      "id": "csh5irV9WhAY",
      "execution_count": null,
      "outputs": []
    },
    {
      "cell_type": "code",
      "source": [
        "# Removing 'lapophalf' - highest to p-value\n",
        "x_stores3 = df_reg[['PovertyRate', 'OHU2010', 'MedianFamilyIncome', 'TractWhite', 'TractBlack', 'TractAsian', 'TractNHOPI',\n",
        "       'TractAIAN','TractHispanic', 'lapop1']]\n",
        "\n",
        "# Model iteration\n",
        "model3 = sm.OLS(y_stores, x_stores3).fit()\n",
        "print(model3.summary()) # Multiple p-values changed - 'TractBlack' has highest p-value"
      ],
      "metadata": {
        "id": "jdCFf4yCXo5F"
      },
      "id": "jdCFf4yCXo5F",
      "execution_count": null,
      "outputs": []
    },
    {
      "cell_type": "code",
      "source": [
        "# Removing 'TractBlack' - highest to p-value\n",
        "x_stores4 = df_reg[['PovertyRate', 'OHU2010', 'MedianFamilyIncome', 'TractWhite', 'TractAsian', 'TractNHOPI',\n",
        "       'TractAIAN','TractHispanic', 'lapop1']]\n",
        "\n",
        "# Model iteration\n",
        "model4 = sm.OLS(y_stores, x_stores4).fit()\n",
        "print(model4.summary()) # Multiple p-values changed - 'lapop1' has highest p-value"
      ],
      "metadata": {
        "id": "rk7cGmBnYK8W"
      },
      "id": "rk7cGmBnYK8W",
      "execution_count": null,
      "outputs": []
    },
    {
      "cell_type": "code",
      "source": [
        "# Removing 'lapop1' - highest to p-value\n",
        "x_stores5 = df_reg[['PovertyRate', 'OHU2010', 'MedianFamilyIncome', 'TractWhite', 'TractAsian', 'TractNHOPI',\n",
        "       'TractAIAN','TractHispanic']]\n",
        "\n",
        "# Model iteration\n",
        "model5 = sm.OLS(y_stores, x_stores5).fit()\n",
        "print(model5.summary()) # Multiple p-values changed - 'TractWhite' has highest p-value"
      ],
      "metadata": {
        "id": "60Wi6LmUYq5H"
      },
      "id": "60Wi6LmUYq5H",
      "execution_count": null,
      "outputs": []
    },
    {
      "cell_type": "code",
      "source": [
        "# Removing 'TractWhite' - highest to p-value\n",
        "x_stores6 = df_reg[['PovertyRate', 'OHU2010', 'MedianFamilyIncome', 'TractAsian', 'TractNHOPI',\n",
        "       'TractAIAN','TractHispanic']]\n",
        "\n",
        "# Model iteration\n",
        "model6 = sm.OLS(y_stores, x_stores6).fit()\n",
        "print(model6.summary()) # Multiple p-values changed - 'TractAsian' has highest p-value"
      ],
      "metadata": {
        "id": "WgsnO0U9b42F"
      },
      "id": "WgsnO0U9b42F",
      "execution_count": null,
      "outputs": []
    },
    {
      "cell_type": "code",
      "source": [
        "# Removing 'TractAsian' - highest to p-value\n",
        "x_stores7 = df_reg[['PovertyRate', 'OHU2010', 'MedianFamilyIncome', 'TractNHOPI',\n",
        "       'TractAIAN','TractHispanic']]\n",
        "\n",
        "# Model iteration\n",
        "model7 = sm.OLS(y_stores, x_stores7).fit()\n",
        "print(model7.summary()) # Multiple p-values changed - 'TractHispanic' has highest p-value"
      ],
      "metadata": {
        "id": "vlnu7SQOcc_X"
      },
      "id": "vlnu7SQOcc_X",
      "execution_count": null,
      "outputs": []
    },
    {
      "cell_type": "code",
      "source": [
        "# Removing 'TractHispanic' - highest to p-value\n",
        "x_stores8 = df_reg[['PovertyRate', 'OHU2010', 'MedianFamilyIncome', 'TractNHOPI',\n",
        "       'TractAIAN']]\n",
        "\n",
        "# Model iteration\n",
        "model8 = sm.OLS(y_stores, x_stores8).fit()\n",
        "print(model8.summary()) # Multiple p-values changed - 'TractAIAN' has highest p-value"
      ],
      "metadata": {
        "id": "dhmJi-8pczuz"
      },
      "id": "dhmJi-8pczuz",
      "execution_count": null,
      "outputs": []
    },
    {
      "cell_type": "code",
      "source": [
        "# Removing 'TractAIAN' - highest to p-value\n",
        "x_stores9 = df_reg[['PovertyRate', 'OHU2010', 'MedianFamilyIncome', 'TractNHOPI']]\n",
        "\n",
        "# Model iteration\n",
        "model9 = sm.OLS(y_stores, x_stores9).fit()\n",
        "print(model9.summary()) # No p-values > 0.5, lowest BIC, highest R-squared & adj. r-squared (tried removing 'NHOPI)"
      ],
      "metadata": {
        "id": "T6-DWWlPdGwq"
      },
      "id": "T6-DWWlPdGwq",
      "execution_count": null,
      "outputs": []
    },
    {
      "cell_type": "code",
      "source": [
        "regr_final = linear_model.LinearRegression()\n",
        "\n",
        "regr_final.fit(x_stores9.values, y_stores.values)\n",
        "\n",
        "predicted_stores = regr_final.predict([[15, 1000, 45000, 100]])\n",
        "\n",
        "print(predicted_stores)"
      ],
      "metadata": {
        "colab": {
          "base_uri": "https://localhost:8080/"
        },
        "id": "3rvcC0BsfWnE",
        "outputId": "bc4dddd9-aa09-463c-8019-9b1aa6ae10ee"
      },
      "id": "3rvcC0BsfWnE",
      "execution_count": 231,
      "outputs": [
        {
          "output_type": "stream",
          "name": "stdout",
          "text": [
            "[130.2881437]\n"
          ]
        }
      ]
    },
    {
      "cell_type": "markdown",
      "source": [
        "**Explanation**\n",
        "\n",
        "\n",
        "Hypothesis: There is a relationship between census data and number of stores per zipcode.\n",
        "\n",
        "Findings:\n",
        "1.   Adjusted R-Squared indicates that 77.8% of variance is explained by model\n",
        "2.   F-statistic indicates (absurdly) high significance\n",
        "3.   Prob(F) or p-value < .05 (good) \n",
        "4.   BIC is 154.4, down from 174.4 in the first model (good)\n",
        "5.   No independent variables have a p-value > .05\n",
        "6.   The model appears to be fitting and functional\n",
        "\n"
      ],
      "metadata": {
        "id": "cO3HztH_nmyr"
      },
      "id": "cO3HztH_nmyr"
    }
  ],
  "metadata": {
    "kernelspec": {
      "display_name": "Python 3",
      "language": "python",
      "name": "python3"
    },
    "language_info": {
      "codemirror_mode": {
        "name": "ipython",
        "version": 3
      },
      "file_extension": ".py",
      "mimetype": "text/x-python",
      "name": "python",
      "nbconvert_exporter": "python",
      "pygments_lexer": "ipython3",
      "version": "3.8.8"
    },
    "colab": {
      "name": "Copy of Trevor.ipynb",
      "provenance": [],
      "collapsed_sections": [],
      "include_colab_link": true
    }
  },
  "nbformat": 4,
  "nbformat_minor": 5
}